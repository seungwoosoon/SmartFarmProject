{
  "cells": [
    {
      "cell_type": "markdown",
      "source": [
        "# YOLO 토마토 질병 분류 모델학습"
      ],
      "metadata": {
        "id": "QQezx6STVABW"
      }
    },
    {
      "cell_type": "markdown",
      "source": [
        "## 환경설정"
      ],
      "metadata": {
        "id": "oVw-MRPLVIAW"
      }
    },
    {
      "cell_type": "code",
      "source": [
        "# 1단계: 환경 설정\n",
        "print(\"🚀 YOLOv8 토마토 질병 분류 - 학습 노트북\")\n",
        "print(\"=\" * 50)\n",
        "\n",
        "# 필요한 패키지 설치\n",
        "print(\"📦 필요한 패키지 설치 중...\")\n",
        "!pip install ultralytics -q\n",
        "print(\"✅ ultralytics 설치 완료\")\n",
        "\n",
        "# 라이브러리 import\n",
        "import torch\n",
        "import os\n",
        "import pandas as pd\n",
        "import matplotlib.pyplot as plt\n",
        "from ultralytics import YOLO\n",
        "from google.colab import drive\n",
        "\n",
        "# 구글 드라이브 마운트\n",
        "print(\"\\n📁 구글 드라이브 마운트 중...\")\n",
        "drive.mount('/content/drive', force_remount=True)\n",
        "print(\"✅ 구글 드라이브 마운트 완료\")\n",
        "\n",
        "# GPU 및 시스템 정보 확인\n",
        "print(f\"\\n💻 시스템 정보:\")\n",
        "print(f\"CUDA 사용 가능: {torch.cuda.is_available()}\")\n",
        "if torch.cuda.is_available():\n",
        "    print(f\"GPU: {torch.cuda.get_device_name(0)}\")\n",
        "    print(f\"GPU 메모리: {torch.cuda.get_device_properties(0).total_memory / 1024**3:.1f} GB\")\n"
      ],
      "metadata": {
        "id": "_eHfXt2NVG8_"
      },
      "execution_count": null,
      "outputs": []
    },
    {
      "cell_type": "markdown",
      "source": [
        "## 데이터셋 및 YAML 파일 확인"
      ],
      "metadata": {
        "id": "Qj3Zp0-AVOrx"
      }
    },
    {
      "cell_type": "code",
      "source": [
        "# 2단계: 데이터셋 및 YAML 파일 확인\n",
        "print(f\"\\n=== 데이터셋 확인 ===\")\n",
        "\n",
        "dataset_path = \"/content/drive/MyDrive/dataset_6class_complete\"\n",
        "yaml_path = \"/content/drive/MyDrive/data_6class.yaml\"\n",
        "\n",
        "print(f\"데이터셋 경로: {dataset_path}\")\n",
        "print(f\"YAML 경로: {yaml_path}\")\n",
        "\n",
        "# 데이터셋 구조 확인\n",
        "if os.path.exists(dataset_path):\n",
        "    print(f\"✅ 데이터셋 존재 확인\")\n",
        "    for part in ['newpart_01', 'newpart_02', 'newpart_03']:\n",
        "        part_dir = f\"{dataset_path}/{part}\"\n",
        "        if os.path.exists(part_dir):\n",
        "            img_count = len([f for f in os.listdir(part_dir) if f.endswith(('.jpg', '.jpeg', '.png'))])\n",
        "            txt_count = len([f for f in os.listdir(part_dir) if f.endswith('.txt')])\n",
        "            role = \"Train\" if part != 'newpart_03' else \"Val\"\n",
        "            print(f\"  {part}: 이미지 {img_count}개, 라벨 {txt_count}개 ({role})\")\n",
        "else:\n",
        "    print(f\"❌ 데이터셋이 없습니다: {dataset_path}\")\n",
        "    print(\"⚠️ 학습을 진행할 수 없습니다. 데이터셋을 확인해주세요.\")\n",
        "\n",
        "# YAML 파일 확인\n",
        "if os.path.exists(yaml_path):\n",
        "    print(f\"✅ YAML 파일 존재 확인\")\n",
        "    with open(yaml_path, 'r', encoding='utf-8') as f:\n",
        "        yaml_content = f.read()\n",
        "        print(f\"YAML 내용:\\n{yaml_content}\")\n",
        "else:\n",
        "    print(f\"❌ YAML 파일이 없습니다: {yaml_path}\")\n",
        "    print(\"⚠️ 학습을 진행할 수 없습니다. YAML 파일을 확인해주세요.\")\n"
      ],
      "metadata": {
        "id": "5ePaoLz7VSeG"
      },
      "execution_count": null,
      "outputs": []
    },
    {
      "cell_type": "markdown",
      "source": [
        "## 학습 실행 여부 확인"
      ],
      "metadata": {
        "id": "RvD3Nci0VXdf"
      }
    },
    {
      "cell_type": "code",
      "source": [
        "# 3단계: 학습 실행 여부 확인 및 안전장치\n",
        "def check_existing_training():\n",
        "    \"\"\"기존 학습 결과 확인 - 중복 학습 방지\"\"\"\n",
        "    results_dir = '/content/drive/MyDrive/yolo_training_results/tomato_6class_v1'\n",
        "    weights_dir = f\"{results_dir}/weights\"\n",
        "\n",
        "    if os.path.exists(weights_dir):\n",
        "        weights = [f for f in os.listdir(weights_dir) if f.endswith('.pt')]\n",
        "        if weights:\n",
        "            print(f\"⚠️ 기존 학습 결과가 발견되었습니다!\")\n",
        "            print(f\"📂 위치: {weights_dir}\")\n",
        "            print(f\"🔍 모델 파일들: {weights}\")\n",
        "\n",
        "            print(f\"\\n🤔 다음 중 선택하세요:\")\n",
        "            print(f\"1. 새로 학습하기 (기존 결과 덮어쓰기)\")\n",
        "            print(f\"2. 기존 모델 사용하기 (학습 건너뛰기)\")\n",
        "            print(f\"3. 학습 결과만 분석하기\")\n",
        "\n",
        "            return True\n",
        "    return False\n",
        "\n",
        "# 기존 학습 확인\n",
        "existing_training = check_existing_training()"
      ],
      "metadata": {
        "id": "LzfFZPf8Vi7Z"
      },
      "execution_count": null,
      "outputs": []
    },
    {
      "cell_type": "markdown",
      "source": [
        "## YOLOv8 학습 시작"
      ],
      "metadata": {
        "id": "GjhXYm8GVmxq"
      }
    },
    {
      "cell_type": "code",
      "source": [
        "# 4단계: YOLOv8 학습 시작\n",
        "def start_training(force_retrain=False):\n",
        "    \"\"\"YOLO 모델 학습 실행\"\"\"\n",
        "\n",
        "    if existing_training and not force_retrain:\n",
        "        print(f\"\\n🛑 기존 학습 결과가 있습니다.\")\n",
        "        print(f\"💡 새로 학습하려면 start_training(force_retrain=True)를 실행하세요.\")\n",
        "        return None\n",
        "\n",
        "    print(f\"\\n=== YOLOv8 학습 시작 ===\")\n",
        "\n",
        "    if not os.path.exists(dataset_path) or not os.path.exists(yaml_path):\n",
        "        print(f\"❌ 데이터셋 또는 YAML 파일이 없습니다. 학습을 중단합니다.\")\n",
        "        return None\n",
        "\n",
        "    # GPU 메모리 정리\n",
        "    torch.cuda.empty_cache()\n",
        "\n",
        "    # YOLOv8s 모델 로드\n",
        "    model = YOLO('yolov8s.pt')\n",
        "    print(\"✅ YOLOv8s 사전 훈련 모델 로드 완료\")\n",
        "\n",
        "    # 학습 시작\n",
        "    print(f\"\\n🚀 학습 시작! (예상 소요 시간: 30-60분)\")\n",
        "    print(f\"📊 학습 진행 상황은 실시간으로 표시됩니다.\")\n",
        "\n",
        "    results = model.train(\n",
        "        # 데이터 설정\n",
        "        data=yaml_path,\n",
        "\n",
        "        # 학습 파라미터\n",
        "        epochs=50,              # 50 에포크\n",
        "        imgsz=640,              # 이미지 크기\n",
        "        batch=16,               # 배치 크기\n",
        "        device=0,               # GPU 사용\n",
        "\n",
        "        # 출력 설정 (구글 드라이브에 저장)\n",
        "        project='/content/drive/MyDrive/yolo_training_results',\n",
        "        name='tomato_6class_v1',\n",
        "\n",
        "        # 최적화 파라미터\n",
        "        optimizer='AdamW',       # 옵티마이저\n",
        "        lr0=0.01,               # 초기 학습률\n",
        "        warmup_epochs=3,        # 웜업 에포크\n",
        "\n",
        "        # validation 관련\n",
        "        conf=0.001,             # validation confidence threshold\n",
        "        iou=0.6,                # IoU threshold\n",
        "\n",
        "        # 손실 함수 가중치\n",
        "        box=7.5,                # 박스 손실 가중치\n",
        "        cls=0.5,                # 분류 손실 가중치\n",
        "        dfl=1.5,                # DFL 손실 가중치\n",
        "\n",
        "        # 저장 및 로그 설정\n",
        "        save=True,              # 모델 저장\n",
        "        save_period=10,         # 10 에포크마다 저장\n",
        "        plots=True,             # 그래프 저장\n",
        "        val=True,               # 검증 수행\n",
        "\n",
        "        # 조기 종료 및 기타\n",
        "        patience=20,            # 조기 종료 기준\n",
        "        exist_ok=True,          # 기존 폴더 덮어쓰기 허용\n",
        "        verbose=True            # 상세 로그\n",
        "    )\n",
        "\n",
        "    print(f\"\\n🎉 학습 완료!\")\n",
        "    return results"
      ],
      "metadata": {
        "id": "c-jOZ0sPVqe3"
      },
      "execution_count": null,
      "outputs": []
    },
    {
      "cell_type": "markdown",
      "source": [
        "## 학습 결과 확인 함수"
      ],
      "metadata": {
        "id": "3YrlzF-QVvwE"
      }
    },
    {
      "cell_type": "code",
      "source": [
        "# 5단계: 학습 결과 확인 함수\n",
        "def check_training_results():\n",
        "    \"\"\"학습 결과 기본 확인\"\"\"\n",
        "    print(f\"\\n=== 학습 결과 확인 ===\")\n",
        "\n",
        "    results_dir = '/content/drive/MyDrive/yolo_training_results/tomato_6class_v1'\n",
        "    weights_dir = f\"{results_dir}/weights\"\n",
        "\n",
        "    if os.path.exists(weights_dir):\n",
        "        weights = [f for f in os.listdir(weights_dir) if f.endswith('.pt')]\n",
        "        print(f\"✅ 저장된 가중치: {weights}\")\n",
        "\n",
        "        # best.pt 모델로 최종 검증\n",
        "        if 'best.pt' in weights:\n",
        "            best_model_path = f\"{weights_dir}/best.pt\"\n",
        "            print(f\"🏆 최고 성능 모델: {best_model_path}\")\n",
        "\n",
        "            # 최종 모델 로드 및 검증\n",
        "            best_model = YOLO(best_model_path)\n",
        "\n",
        "            # Validation 실행\n",
        "            val_results = best_model.val(\n",
        "                data=yaml_path,\n",
        "                conf=0.001,\n",
        "                iou=0.6,\n",
        "                device=0\n",
        "            )\n",
        "\n",
        "            print(f\"\\n📊 최종 성능:\")\n",
        "            print(f\"mAP@0.5: {val_results.box.map50:.4f}\")\n",
        "            print(f\"mAP@0.5:0.95: {val_results.box.map:.4f}\")\n",
        "\n",
        "            # 클래스별 성능\n",
        "            class_names = ['정상', '토마토잿빛곰팡이병', '토마토흰가루병',\n",
        "                          '다량원소결핍(N)', '다량원소결핍(P)', '다량원소결핍(K)']\n",
        "\n",
        "            if hasattr(val_results.box, 'ap') and len(val_results.box.ap) > 0:\n",
        "                print(f\"\\n📈 클래스별 mAP@0.5:\")\n",
        "                for i, name in enumerate(class_names):\n",
        "                    if i < len(val_results.box.ap):\n",
        "                        ap_value = val_results.box.ap[i] if val_results.box.ap[i] is not None else 0.0\n",
        "                        print(f\"  {name}: {ap_value:.4f}\")\n",
        "\n",
        "        print(f\"\\n📂 결과 저장 위치: {results_dir}\")\n",
        "        print(f\"   - 가중치: {weights_dir}\")\n",
        "        print(f\"   - 그래프 및 로그: {results_dir}\")\n",
        "\n",
        "    else:\n",
        "        print(f\"❌ 학습 결과를 찾을 수 없습니다.\")\n",
        "        print(f\"💡 학습을 먼저 실행해주세요: start_training()\")\n"
      ],
      "metadata": {
        "id": "ctEMTA6rVxM7"
      },
      "execution_count": null,
      "outputs": []
    },
    {
      "cell_type": "markdown",
      "source": [
        "## 학습 결과 상세 분석"
      ],
      "metadata": {
        "id": "qQsYxQZlV1IU"
      }
    },
    {
      "cell_type": "code",
      "source": [
        "# 6단계: 학습 결과 상세 분석\n",
        "def analyze_training_results():\n",
        "    \"\"\"학습 결과 상세 분석 - 과적합 여부 판단\"\"\"\n",
        "    print(\"📊 학습 결과 상세 분석 시작!\")\n",
        "\n",
        "    results_dir = '/content/drive/MyDrive/yolo_training_results/tomato_6class_v1'\n",
        "    results_csv = f\"{results_dir}/results.csv\"\n",
        "\n",
        "    if not os.path.exists(results_csv):\n",
        "        print(f\"❌ results.csv 파일이 없습니다: {results_csv}\")\n",
        "        print(f\"💡 학습을 먼저 완료해주세요.\")\n",
        "        return None\n",
        "\n",
        "    # CSV 읽기\n",
        "    df = pd.read_csv(results_csv)\n",
        "    print(f\"✅ 총 {len(df)}개 에포크 학습 완료\")\n",
        "\n",
        "    # mAP 트렌드 분석\n",
        "    map50_col = None\n",
        "    if 'metrics/mAP50(B)' in df.columns:\n",
        "        map50_col = 'metrics/mAP50(B)'\n",
        "    elif 'val/mAP50' in df.columns:\n",
        "        map50_col = 'val/mAP50'\n",
        "\n",
        "    if map50_col:\n",
        "        map50_values = df[map50_col].values\n",
        "        best_map50 = max(map50_values)\n",
        "        best_epoch = df[df[map50_col] == best_map50].index[0] + 1\n",
        "        last_map50 = map50_values[-1]\n",
        "\n",
        "        print(f\"\\n📊 성능 요약:\")\n",
        "        print(f\"  최고 mAP50: {best_map50:.4f} (에포크 {best_epoch})\")\n",
        "        print(f\"  최종 mAP50: {last_map50:.4f}\")\n",
        "        print(f\"  성능 차이: {(best_map50 - last_map50):.4f}\")\n",
        "\n",
        "        # 과적합 판단\n",
        "        if best_map50 - last_map50 > 0.02:\n",
        "            print(\"🚨 과적합 의심: 최고 성능 대비 2% 이상 하락\")\n",
        "            print(\"💡 권장: best.pt 모델 사용\")\n",
        "        elif best_map50 - last_map50 > 0.01:\n",
        "            print(\"⚠️ 경미한 과적합 가능성: 1-2% 하락\")\n",
        "        else:\n",
        "            print(\"✅ 과적합 없음: 성능 안정적\")\n",
        "\n",
        "    return df"
      ],
      "metadata": {
        "id": "CSKp14GlV209"
      },
      "execution_count": null,
      "outputs": []
    },
    {
      "cell_type": "markdown",
      "source": [
        "## 학습 곡선 시각화"
      ],
      "metadata": {
        "id": "eANlK4IuV7tu"
      }
    },
    {
      "cell_type": "code",
      "source": [
        "# 7단계: 학습 곡선 시각화\n",
        "def plot_training_curves(df=None):\n",
        "    \"\"\"학습 곡선 시각화\"\"\"\n",
        "    if df is None:\n",
        "        results_csv = '/content/drive/MyDrive/yolo_training_results/tomato_6class_v1/results.csv'\n",
        "        if not os.path.exists(results_csv):\n",
        "            print(f\"❌ 학습 결과가 없습니다.\")\n",
        "            return\n",
        "        df = pd.read_csv(results_csv)\n",
        "\n",
        "    print(f\"\\n=== 학습 곡선 시각화 ===\")\n",
        "\n",
        "    # 전문적인 4개 서브플롯 구성\n",
        "    fig, axes = plt.subplots(2, 2, figsize=(15, 10))\n",
        "    fig.suptitle('Training Results Summary', fontsize=16, fontweight='bold')\n",
        "\n",
        "    epochs = range(len(df))\n",
        "\n",
        "    # 1. mAP50 진행\n",
        "    if 'metrics/mAP50(B)' in df.columns:\n",
        "        ax1 = axes[0, 0]\n",
        "        ax1.plot(epochs, df['metrics/mAP50(B)'], color='#1f77b4', linewidth=2, label='mAP50')\n",
        "        ax1.set_title('mAP50 진행', fontsize=14, fontweight='bold')\n",
        "        ax1.set_xlabel('Epoch')\n",
        "        ax1.set_ylabel('mAP50')\n",
        "        ax1.grid(True, alpha=0.3)\n",
        "        ax1.legend()\n",
        "\n",
        "        # 최고점 표시\n",
        "        best_idx = df['metrics/mAP50(B)'].idxmax()\n",
        "        best_value = df['metrics/mAP50(B)'].iloc[best_idx]\n",
        "        ax1.plot(best_idx, best_value, 'ro', markersize=8)\n",
        "        ax1.text(best_idx, best_value + 0.02, f'Best: {best_value:.3f}',\n",
        "                ha='center', fontweight='bold')\n",
        "\n",
        "    # 2. mAP50-95 진행\n",
        "    if 'metrics/mAP50-95(B)' in df.columns:\n",
        "        ax2 = axes[0, 1]\n",
        "        ax2.plot(epochs, df['metrics/mAP50-95(B)'], color='#2ca02c', linewidth=2, label='mAP50-95')\n",
        "        ax2.set_title('mAP50-95 진행', fontsize=14, fontweight='bold')\n",
        "        ax2.set_xlabel('Epoch')\n",
        "        ax2.set_ylabel('mAP50-95')\n",
        "        ax2.grid(True, alpha=0.3)\n",
        "        ax2.legend()\n",
        "\n",
        "    # 3. Loss 진행\n",
        "    ax3 = axes[1, 0]\n",
        "    train_loss_cols = [col for col in df.columns if 'train' in col and 'loss' in col]\n",
        "    val_loss_cols = [col for col in df.columns if 'val' in col and 'loss' in col]\n",
        "\n",
        "    if train_loss_cols and val_loss_cols:\n",
        "        ax3.plot(epochs, df[train_loss_cols[0]], color='#d62728', linewidth=2, label='Train Loss')\n",
        "        ax3.plot(epochs, df[val_loss_cols[0]], color='#ff7f0e', linewidth=2, label='Val Loss')\n",
        "        ax3.set_title('Loss 진행', fontsize=14, fontweight='bold')\n",
        "        ax3.set_xlabel('Epoch')\n",
        "        ax3.set_ylabel('Loss')\n",
        "        ax3.grid(True, alpha=0.3)\n",
        "        ax3.legend()\n",
        "\n",
        "    # 4. 최근 성능 상세\n",
        "    ax4 = axes[1, 1]\n",
        "    if 'metrics/mAP50(B)' in df.columns:\n",
        "        recent_epochs = min(10, len(df))\n",
        "        recent_data = df['metrics/mAP50(B)'].tail(recent_epochs)\n",
        "        recent_x = range(len(df) - recent_epochs, len(df))\n",
        "\n",
        "        ax4.plot(recent_x, recent_data, 'o-', color='#9467bd', linewidth=2,\n",
        "                markersize=6, label=f'Recent {recent_epochs} epochs')\n",
        "        ax4.set_title(f'최근 {recent_epochs} 에포크 상세', fontsize=14, fontweight='bold')\n",
        "        ax4.set_xlabel('Epoch')\n",
        "        ax4.set_ylabel('mAP50')\n",
        "        ax4.grid(True, alpha=0.3)\n",
        "        ax4.legend()\n",
        "\n",
        "    plt.tight_layout()\n",
        "    plt.savefig('/content/drive/MyDrive/training_analysis_complete.png', dpi=150, bbox_inches='tight')\n",
        "    plt.show()\n",
        "\n",
        "    print(f\"📈 학습 곡선 저장: /content/drive/MyDrive/training_analysis_complete.png\")\n"
      ],
      "metadata": {
        "id": "eReXPnLnV9Ih"
      },
      "execution_count": null,
      "outputs": []
    },
    {
      "cell_type": "markdown",
      "source": [
        "## 간단한 추론 테스트"
      ],
      "metadata": {
        "id": "Jz4d_tBRWAU3"
      }
    },
    {
      "cell_type": "code",
      "source": [
        "# 8단계: 간단한 추론 테스트\n",
        "def quick_inference_test():\n",
        "    \"\"\"학습 완료 후 간단한 추론 테스트\"\"\"\n",
        "    print(f\"\\n=== 간단한 추론 테스트 ===\")\n",
        "\n",
        "    best_model_path = '/content/drive/MyDrive/yolo_training_results/tomato_6class_v1/weights/best.pt'\n",
        "\n",
        "    if not os.path.exists(best_model_path):\n",
        "        print(f\"❌ 모델이 없습니다. 학습을 먼저 완료해주세요.\")\n",
        "        return\n",
        "\n",
        "    model = YOLO(best_model_path)\n",
        "\n",
        "    # 테스트 이미지 선택\n",
        "    val_dir = \"/content/drive/MyDrive/dataset_6class_complete/newpart_03\"\n",
        "    if os.path.exists(val_dir):\n",
        "        val_images = [f for f in os.listdir(val_dir) if f.endswith(('.jpg', '.jpeg', '.png'))]\n",
        "        if val_images:\n",
        "            test_image = f\"{val_dir}/{val_images[0]}\"\n",
        "            print(f\"📷 테스트 이미지: {val_images[0]}\")\n",
        "\n",
        "            # 추론 실행\n",
        "            results = model(test_image, conf=0.25, device=0)\n",
        "\n",
        "            # 결과 출력\n",
        "            for r in results:\n",
        "                if r.boxes is not None and len(r.boxes) > 0:\n",
        "                    print(f\"✅ {len(r.boxes)}개 객체 검출 성공!\")\n",
        "                    for i, box in enumerate(r.boxes):\n",
        "                        class_id = int(box.cls[0])\n",
        "                        confidence = float(box.conf[0])\n",
        "                        class_name = model.names[class_id]\n",
        "                        print(f\"  {i+1}. {class_name} (신뢰도: {confidence:.3f})\")\n",
        "                else:\n",
        "                    print(f\"❌ 검출된 객체 없음\")\n",
        "\n",
        "            print(f\"🎯 상세한 추론 테스트는 Inference 노트북을 사용하세요!\")"
      ],
      "metadata": {
        "id": "nmpcwhWHWBhw"
      },
      "execution_count": null,
      "outputs": []
    }
  ],
  "metadata": {
    "colab": {
      "provenance": [],
      "gpuType": "T4"
    },
    "kernelspec": {
      "display_name": "Python 3",
      "name": "python3"
    },
    "language_info": {
      "name": "python"
    },
    "accelerator": "GPU"
  },
  "nbformat": 4,
  "nbformat_minor": 0
}